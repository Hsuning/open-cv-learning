{
 "cells": [
  {
   "cell_type": "markdown",
   "metadata": {},
   "source": [
    "# Introduction to OpenCV\n",
    "https://docs.opencv.org/4.5.2/da/df6/tutorial_py_table_of_contents_setup.html"
   ]
  },
  {
   "cell_type": "code",
   "execution_count": 275,
   "metadata": {},
   "outputs": [],
   "source": [
    "import numpy as np\n",
    "import cv2 as cv\n",
    "import matplotlib.pyplot as plt\n",
    "\n",
    "%matplotlib inline"
   ]
  },
  {
   "cell_type": "markdown",
   "metadata": {
    "tags": []
   },
   "source": [
    "## Morphological Transformations\n",
    "- learn different morphological operations like Erosion, Dilation, Opening, Closing etc.\n",
    "\n",
    "Morphological transformations are some simple operations based on the image shape. It is normally performed on binary images. It needs two inputs, one is our original image, second one is called structuring element or kernel which decides the nature of operation. Two basic morphological operators are Erosion and Dilation. Then its variant forms like Opening, Closing, Gradient etc also comes into play. We will see them one-by-one with help of following image:"
   ]
  },
  {
   "cell_type": "markdown",
   "metadata": {},
   "source": [
    "### cv2.erode()\n",
    "\n",
    "The kernel slides through the image (as in 2D convolution). A pixel in the original image (either 1 or 0) will be considered 1 only if all the pixels under the kernel is 1, otherwise it is eroded (made to zero).\n",
    "\n",
    "It is useful for removing small white noises (as we have seen in colorspace chapter), detach two connected objects etc."
   ]
  },
  {
   "cell_type": "code",
   "execution_count": 160,
   "metadata": {},
   "outputs": [
    {
     "data": {
      "text/plain": [
       "<matplotlib.image.AxesImage at 0x7f7f9e6889d0>"
      ]
     },
     "execution_count": 160,
     "metadata": {},
     "output_type": "execute_result"
    },
    {
     "data": {
      "image/png": "[encoded data removed]",
      "text/plain": [
       "<Figure size 360x360 with 1 Axes>"
      ]
     },
     "metadata": {
      "needs_background": "light"
     },
     "output_type": "display_data"
    }
   ],
   "source": [
    "img = cv.imread('j.bmp', 0)\n",
    "\n",
    "kernel = np.ones((5, 5), np.uint8)\n",
    "erosion = cv.erode(img, kernel)\n",
    "\n",
    "plt.figure(figsize=(5, 5))\n",
    "plt.imshow(np.hstack((img, erosion)), 'gray')"
   ]
  },
  {
   "cell_type": "markdown",
   "metadata": {},
   "source": [
    "The erode use convolution (so need kernel). can use cv2.getStructuringElement() to get different structure"
   ]
  },
  {
   "cell_type": "code",
   "execution_count": 168,
   "metadata": {},
   "outputs": [
    {
     "data": {
      "text/plain": [
       "<matplotlib.image.AxesImage at 0x7f7f9e23ad50>"
      ]
     },
     "execution_count": 168,
     "metadata": {},
     "output_type": "execute_result"
    },
    {
     "data": {
      "image/png": "[encoded data removed]",
      "text/plain": [
       "<Figure size 720x1440 with 1 Axes>"
      ]
     },
     "metadata": {
      "needs_background": "light"
     },
     "output_type": "display_data"
    }
   ],
   "source": [
    "kernel1 = np.ones((5, 5), np.uint8)\n",
    "erosion1 = cv.erode(img, kernel1)\n",
    "\n",
    "kernel2 = cv.getStructuringElement(cv.MORPH_RECT, (5, 5))\n",
    "erosion2 = cv.erode(img, kernel2)\n",
    "\n",
    "kernel3 = cv.getStructuringElement(cv.MORPH_ELLIPSE, (5, 5))\n",
    "erosion3 = cv.erode(img, kernel3)\n",
    "\n",
    "kernel4 = cv.getStructuringElement(cv.MORPH_CROSS, (5, 5))\n",
    "erosion4 = cv.erode(img, kernel4)\n",
    "\n",
    "plt.figure(figsize=(10, 20))\n",
    "plt.imshow(np.hstack((img, erosion1, erosion2, erosion3, erosion4)), 'gray')"
   ]
  },
  {
   "cell_type": "markdown",
   "metadata": {},
   "source": [
    "### cv2.dilate()\n",
    "\n",
    "It is just opposite of erosion. Here, a pixel element is '1' if atleast one pixel under the kernel is '1'. So it increases the white region in the image or size of foreground object increases. \n",
    "\n",
    "Normally, in cases like noise removal, erosion is followed by dilation. Because, erosion removes white noises, but it also shrinks our object. So we dilate it. Since noise is gone, they won't come back, but our object area increases. It is also useful in joining broken parts of an object. "
   ]
  },
  {
   "cell_type": "code",
   "execution_count": 172,
   "metadata": {},
   "outputs": [
    {
     "data": {
      "text/plain": [
       "<matplotlib.image.AxesImage at 0x7f7fa096a610>"
      ]
     },
     "execution_count": 172,
     "metadata": {},
     "output_type": "execute_result"
    },
    {
     "data": {
      "image/png": "[encoded data removed]",
      "text/plain": [
       "<Figure size 720x1440 with 1 Axes>"
      ]
     },
     "metadata": {
      "needs_background": "light"
     },
     "output_type": "display_data"
    }
   ],
   "source": [
    "dilation1 = cv.dilate(erosion1, kernel1)\n",
    "dilation2 = cv.dilate(erosion2, kernel2)\n",
    "dilation3 = cv.dilate(erosion3, kernel3)\n",
    "dilation4 = cv.dilate(erosion4, kernel4)\n",
    "\n",
    "plt.figure(figsize=(10, 20))\n",
    "plt.imshow(np.hstack((img, dilation1, dilation2, dilation3, dilation4)), 'gray')"
   ]
  },
  {
   "cell_type": "markdown",
   "metadata": {},
   "source": [
    "### cv2.morphologyEx() : erode + dilate\n",
    "- Opening - cv2.MORPH_OPEN : erode => dilate\n",
    "- Closing - cv2.MORPH_CLOSE : dilate => erode\n",
    "\n",
    "If there are many irrelevant small areas outside our target object, use the open operation to remove them; if there are many small black holes inside the object, use the closed operation to fill them out. "
   ]
  },
  {
   "cell_type": "code",
   "execution_count": 174,
   "metadata": {},
   "outputs": [
    {
     "data": {
      "text/plain": [
       "<matplotlib.image.AxesImage at 0x7f7fa09fe550>"
      ]
     },
     "execution_count": 174,
     "metadata": {},
     "output_type": "execute_result"
    },
    {
     "data": {
      "image/png": "[encoded data removed]",
      "text/plain": [
       "<Figure size 720x1440 with 1 Axes>"
      ]
     },
     "metadata": {
      "needs_background": "light"
     },
     "output_type": "display_data"
    }
   ],
   "source": [
    "img = cv.imread('j_noise_out.bmp', 0)\n",
    "kernel = cv.getStructuringElement(cv.MORPH_RECT, (5, 5))\n",
    "opening = cv.morphologyEx(img, cv.MORPH_OPEN, kernel)\n",
    "closing = cv.morphologyEx(img, cv.MORPH_CLOSE, kernel)\n",
    "\n",
    "plt.figure(figsize=(10, 20))\n",
    "plt.imshow(np.hstack((img, opening, closing)), 'gray')"
   ]
  },
  {
   "cell_type": "markdown",
   "metadata": {},
   "source": [
    "Others : \n",
    "- cv2.MORPH_GRADIENT : dilation - erosion\n",
    "- cv2.MORPH_TOPHAT : src - opening\n",
    "- cv2.MORPH_BLACKHAT : closing - src"
   ]
  },
  {
   "cell_type": "code",
   "execution_count": 176,
   "metadata": {},
   "outputs": [
    {
     "data": {
      "text/plain": [
       "<matplotlib.image.AxesImage at 0x7f7fa1594690>"
      ]
     },
     "execution_count": 176,
     "metadata": {},
     "output_type": "execute_result"
    },
    {
     "data": {
      "image/png": "[encoded data removed]",
      "text/plain": [
       "<Figure size 720x1440 with 1 Axes>"
      ]
     },
     "metadata": {
      "needs_background": "light"
     },
     "output_type": "display_data"
    }
   ],
   "source": [
    "kernel = cv.getStructuringElement(cv.MORPH_RECT, (5, 5))\n",
    "\n",
    "gradient = cv.morphologyEx(img, cv.MORPH_GRADIENT, kernel)\n",
    "tophat = cv.morphologyEx(img, cv.MORPH_TOPHAT, kernel)\n",
    "blackhat = cv.morphologyEx(img, cv.MORPH_BLACKHAT, kernel)\n",
    "\n",
    "plt.figure(figsize=(10, 20))\n",
    "plt.imshow(np.hstack((img, gradient, tophat, blackhat)), 'gray')"
   ]
  }
 ],
 "metadata": {
  "kernelspec": {
   "display_name": "Python 3 (ipykernel)",
   "language": "python",
   "name": "python3"
  },
  "language_info": {
   "codemirror_mode": {
    "name": "ipython",
    "version": 3
   },
   "file_extension": ".py",
   "mimetype": "text/x-python",
   "name": "python",
   "nbconvert_exporter": "python",
   "pygments_lexer": "ipython3",
   "version": "3.10.6"
  },
  "toc": {
   "base_numbering": 1,
   "nav_menu": {
    "height": "313px",
    "width": "284px"
   },
   "number_sections": true,
   "sideBar": true,
   "skip_h1_title": false,
   "title_cell": "Table of Contents",
   "title_sidebar": "Contents",
   "toc_cell": false,
   "toc_position": {},
   "toc_section_display": true,
   "toc_window_display": false
  }
 },
 "nbformat": 4,
 "nbformat_minor": 4
}
